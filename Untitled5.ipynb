{
  "nbformat": 4,
  "nbformat_minor": 0,
  "metadata": {
    "colab": {
      "provenance": [],
      "authorship_tag": "ABX9TyPak6raehVwvbMbGXxpN33S",
      "include_colab_link": true
    },
    "kernelspec": {
      "name": "python3",
      "display_name": "Python 3"
    },
    "language_info": {
      "name": "python"
    }
  },
  "cells": [
    {
      "cell_type": "markdown",
      "metadata": {
        "id": "view-in-github",
        "colab_type": "text"
      },
      "source": [
        "<a href=\"https://colab.research.google.com/github/andinnho/Exemplos-b-sico-python-/blob/main/Untitled5.ipynb\" target=\"_parent\"><img src=\"https://colab.research.google.com/assets/colab-badge.svg\" alt=\"Open In Colab\"/></a>"
      ]
    },
    {
      "cell_type": "code",
      "execution_count": null,
      "metadata": {
        "id": "08i-WSCgapfj"
      },
      "outputs": [],
      "source": [
        "PEROJETO_TABUADA"
      ]
    },
    {
      "cell_type": "code",
      "source": [
        "for i in range(1, 21):\n",
        "    print(f\"Tabuada do {i}:\")\n",
        "    for j in range(1, 21):\n",
        "        resultado = i * j\n",
        "        print(f\"{i} x {j} = {resultado}\")\n",
        "    print()"
      ],
      "metadata": {
        "id": "0xYG5glRatFM"
      },
      "execution_count": null,
      "outputs": []
    },
    {
      "cell_type": "markdown",
      "source": [
        "Exemplo soma de dois números"
      ],
      "metadata": {
        "id": "gaYdx5I7imji"
      }
    },
    {
      "cell_type": "code",
      "source": [
        "num1= 5\n",
        "num2= 12\n",
        "soma = num1+ num2\n",
        "print(soma)"
      ],
      "metadata": {
        "colab": {
          "base_uri": "https://localhost:8080/"
        },
        "id": "Il3ZpA8jetbp",
        "outputId": "172a2f70-0f53-4067-ecc9-d1c60e2dd364"
      },
      "execution_count": 11,
      "outputs": [
        {
          "output_type": "stream",
          "name": "stdout",
          "text": [
            "17\n"
          ]
        }
      ]
    },
    {
      "cell_type": "markdown",
      "source": [
        "Exemplo  subtração  de dois números"
      ],
      "metadata": {
        "id": "Nxald0Zwiyhd"
      }
    },
    {
      "cell_type": "code",
      "source": [
        "anonasc = 1979\n",
        "anoatual= 2023\n",
        "idade = anoatual- anonasc\n",
        "print(idade)"
      ],
      "metadata": {
        "colab": {
          "base_uri": "https://localhost:8080/"
        },
        "id": "usvo2QWthBJR",
        "outputId": "e2d7461f-e4d4-48b3-ca61-57d803381fec"
      },
      "execution_count": 13,
      "outputs": [
        {
          "output_type": "stream",
          "name": "stdout",
          "text": [
            "44\n"
          ]
        }
      ]
    },
    {
      "cell_type": "markdown",
      "source": [
        "Exemplo de estrutura condicional:"
      ],
      "metadata": {
        "id": "xqa31vf-jAln"
      }
    },
    {
      "cell_type": "code",
      "source": [
        "idade = 16\n",
        "if idade >= 18:\n",
        " print(\"você  é maior de idade.\")\n",
        "else:\n",
        " print(\"Você  é  menor de idade. \")"
      ],
      "metadata": {
        "colab": {
          "base_uri": "https://localhost:8080/"
        },
        "id": "msHR2mJejQ58",
        "outputId": "8820d9b0-7d05-465b-deb3-d6d65bfb4d99"
      },
      "execution_count": 21,
      "outputs": [
        {
          "output_type": "stream",
          "name": "stdout",
          "text": [
            "Você  é  menor de idade. \n"
          ]
        }
      ]
    },
    {
      "cell_type": "markdown",
      "source": [
        "Exemplo de estrutura de repetição (loop):"
      ],
      "metadata": {
        "id": "AyaroOBtldYZ"
      }
    },
    {
      "cell_type": "code",
      "source": [
        "for i in range(1,100):\n",
        " print(i)"
      ],
      "metadata": {
        "id": "jPTjIBT7lmZu"
      },
      "execution_count": null,
      "outputs": []
    },
    {
      "cell_type": "markdown",
      "source": [
        "Exemplo de função em Python:"
      ],
      "metadata": {
        "id": "zZXEQHFamlvP"
      }
    },
    {
      "cell_type": "code",
      "source": [
        "def calcular_area(base,altura):\n",
        "\n",
        " area = base * altura\n",
        " return area\n",
        "resultado = calcular_area(10,25)\n",
        "print(\"Área  e igual a:\",resultado,\"m²\")"
      ],
      "metadata": {
        "colab": {
          "base_uri": "https://localhost:8080/"
        },
        "id": "9-Xanwzom8I3",
        "outputId": "a7851f68-cb28-42f1-f441-dd0c02319797"
      },
      "execution_count": 34,
      "outputs": [
        {
          "output_type": "stream",
          "name": "stdout",
          "text": [
            "Área  e igual a: 250 m²\n"
          ]
        }
      ]
    },
    {
      "cell_type": "markdown",
      "source": [
        "Exemplo de lista (array):"
      ],
      "metadata": {
        "id": "IDJAunItqKqg"
      }
    },
    {
      "cell_type": "code",
      "source": [
        "frutas = [\"maçã\", \"banana\", \"laranja\"]\n",
        "print(frutas[0])  # Acessando o primeiro elemento\n",
        "print(len(frutas))  # Tamanho da lista\n",
        "frutas.append(\"morango\")  # Adicionando um elemento"
      ],
      "metadata": {
        "id": "i-65iAfGqfTX"
      },
      "execution_count": null,
      "outputs": []
    },
    {
      "cell_type": "markdown",
      "source": [
        "Exemplo de dicionário:"
      ],
      "metadata": {
        "id": "u1PDrSYbrHff"
      }
    },
    {
      "cell_type": "code",
      "source": [
        "pessoa = {\"nome\": \"João\", \"idade\": 25, \"cidade\": \"São Paulo\"}\n",
        "print(pessoa[\"idade\"])  # Acessando o valor pela chave\n",
        "pessoa[\"profissão\"] = \"Engenheiro\"  # Adicionando um par chave-valor"
      ],
      "metadata": {
        "colab": {
          "base_uri": "https://localhost:8080/"
        },
        "id": "T2mDqbCcrK0R",
        "outputId": "fffc7fa7-1667-431d-a271-6adc5801b1f8"
      },
      "execution_count": 42,
      "outputs": [
        {
          "output_type": "stream",
          "name": "stdout",
          "text": [
            "25\n"
          ]
        }
      ]
    }
  ]
}